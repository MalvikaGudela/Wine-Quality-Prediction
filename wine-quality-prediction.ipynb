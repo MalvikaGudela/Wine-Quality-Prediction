{
 "cells": [
  {
   "cell_type": "code",
   "execution_count": 1,
   "metadata": {},
   "outputs": [],
   "source": [
    "#importing necessary libraries\n",
    "import numpy as np\n",
    "import pandas as pd\n",
    "from sklearn.model_selection import train_test_split\n",
    "from sklearn import preprocessing\n",
    "from sklearn import tree"
   ]
  },
  {
   "cell_type": "code",
   "execution_count": 2,
   "metadata": {},
   "outputs": [
    {
     "name": "stdout",
     "output_type": "stream",
     "text": [
      "   fixed acidity  volatile acidity  citric acid  residual sugar  chlorides  \\\n",
      "0            7.4              0.70         0.00             1.9      0.076   \n",
      "1            7.8              0.88         0.00             2.6      0.098   \n",
      "2            7.8              0.76         0.04             2.3      0.092   \n",
      "3           11.2              0.28         0.56             1.9      0.075   \n",
      "4            7.4              0.70         0.00             1.9      0.076   \n",
      "\n",
      "   free sulfur dioxide  total sulfur dioxide  density    pH  sulphates  \\\n",
      "0                 11.0                  34.0   0.9978  3.51       0.56   \n",
      "1                 25.0                  67.0   0.9968  3.20       0.68   \n",
      "2                 15.0                  54.0   0.9970  3.26       0.65   \n",
      "3                 17.0                  60.0   0.9980  3.16       0.58   \n",
      "4                 11.0                  34.0   0.9978  3.51       0.56   \n",
      "\n",
      "   alcohol  quality  \n",
      "0      9.4        5  \n",
      "1      9.8        5  \n",
      "2      9.8        5  \n",
      "3      9.8        6  \n",
      "4      9.4        5  \n"
     ]
    }
   ],
   "source": [
    "#loading data and converting csv into data frame\n",
    "df=pd.read_csv(\"winequality-red.csv\",sep=\",\")\n",
    "print (df.head())"
   ]
  },
  {
   "cell_type": "code",
   "execution_count": 12,
   "metadata": {},
   "outputs": [],
   "source": [
    "y=df.quality\n",
    "x=df.drop('quality',axis=1)"
   ]
  },
  {
   "cell_type": "code",
   "execution_count": 14,
   "metadata": {},
   "outputs": [],
   "source": [
    "#splitting dataset into test and train data\n",
    "x_trn, x_tst, y_trn, y_tst = train_test_split(x,y, test_size = 0.2)"
   ]
  },
  {
   "cell_type": "code",
   "execution_count": 15,
   "metadata": {},
   "outputs": [
    {
     "name": "stdout",
     "output_type": "stream",
     "text": [
      "      fixed acidity  volatile acidity  citric acid  residual sugar  chlorides  \\\n",
      "904             6.8             0.590         0.06             6.0      0.060   \n",
      "349             9.1             0.785         0.00             2.6      0.093   \n",
      "1144            7.3             0.320         0.23             2.3      0.066   \n",
      "40              7.3             0.450         0.36             5.9      0.074   \n",
      "749             7.3             0.510         0.18             2.1      0.070   \n",
      "\n",
      "      free sulfur dioxide  total sulfur dioxide  density    pH  sulphates  \\\n",
      "904                  11.0                  18.0  0.99620  3.41       0.59   \n",
      "349                  11.0                  28.0  0.99940  3.36       0.86   \n",
      "1144                 35.0                  70.0  0.99588  3.43       0.62   \n",
      "40                   12.0                  87.0  0.99780  3.33       0.83   \n",
      "749                  12.0                  28.0  0.99768  3.52       0.73   \n",
      "\n",
      "      alcohol  \n",
      "904      10.8  \n",
      "349       9.4  \n",
      "1144     10.1  \n",
      "40       10.5  \n",
      "749       9.5  \n"
     ]
    }
   ],
   "source": [
    "print (x_trn.head())"
   ]
  },
  {
   "cell_type": "code",
   "execution_count": 6,
   "metadata": {},
   "outputs": [
    {
     "name": "stdout",
     "output_type": "stream",
     "text": [
      "[[-0.36617628  2.29341977  0.78718679 ... -0.38208754  0.43260442\n",
      "  -1.13307436]\n",
      " [-1.22551475 -0.35497994  0.07385852 ...  0.13313646 -0.233294\n",
      "  -0.57943311]\n",
      " [-0.36617628  1.26193778 -0.02804552 ... -0.44649054 -1.26240976\n",
      "  -1.04080082]\n",
      " ...\n",
      " [-0.99635782  1.76373983 -1.25089399 ...  1.35679347 -0.59651133\n",
      "   1.72740543]\n",
      " [ 0.95147603 -1.13556091  1.6024191  ... -0.70410254  0.73528553\n",
      "  -0.7639802 ]\n",
      " [-0.88177936 -0.18771259 -0.28280562 ...  0.64836046  1.03796663\n",
      "   0.80467001]]\n"
     ]
    }
   ],
   "source": [
    "x_trn_scaled=preprocessing.scale(x_trn)\n",
    "print (x_trn_scaled)"
   ]
  },
  {
   "cell_type": "code",
   "execution_count": 7,
   "metadata": {},
   "outputs": [
    {
     "data": {
      "text/plain": [
       "DecisionTreeClassifier(class_weight=None, criterion='gini', max_depth=None,\n",
       "                       max_features=None, max_leaf_nodes=None,\n",
       "                       min_impurity_decrease=0.0, min_impurity_split=None,\n",
       "                       min_samples_leaf=1, min_samples_split=2,\n",
       "                       min_weight_fraction_leaf=0.0, presort=False,\n",
       "                       random_state=None, splitter='best')"
      ]
     },
     "execution_count": 7,
     "metadata": {},
     "output_type": "execute_result"
    }
   ],
   "source": [
    "#training our algorithm \n",
    "clf = tree.DecisionTreeClassifier()\n",
    "clf.fit(x_trn, y_trn)"
   ]
  },
  {
   "cell_type": "code",
   "execution_count": 8,
   "metadata": {},
   "outputs": [
    {
     "name": "stdout",
     "output_type": "stream",
     "text": [
      "The Confidence score: 0.59375\n"
     ]
    }
   ],
   "source": [
    "conf = clf.score(x_tst, y_tst)\n",
    "print (\"The Confidence score:\", conf)"
   ]
  },
  {
   "cell_type": "code",
   "execution_count": 9,
   "metadata": {},
   "outputs": [],
   "source": [
    "y_prd = clf.predict(x_tst)"
   ]
  },
  {
   "cell_type": "code",
   "execution_count": 10,
   "metadata": {},
   "outputs": [
    {
     "name": "stdout",
     "output_type": "stream",
     "text": [
      "The prediction:\n",
      "5\n",
      "6\n",
      "5\n",
      "7\n",
      "6\n",
      "The expectation: 1386    5\n",
      "1174    6\n",
      "1253    5\n",
      "1230    6\n",
      "1184    5\n",
      "Name: quality, dtype: int64\n"
     ]
    }
   ],
   "source": [
    "#converting the numpy array to list\n",
    "x = np.array(y_prd).tolist()\n",
    "\n",
    "#printing first 5 predictions\n",
    "print (\"The prediction:\")\n",
    "for i in range(0,5):\n",
    "    print (x[i])\n",
    "    \n",
    "#printing first five expectations\n",
    "print (\"The expectation:\", y_tst.head())"
   ]
  }
 ],
 "metadata": {
  "kernelspec": {
   "display_name": "Python 3",
   "language": "python",
   "name": "python3"
  },
  "language_info": {
   "codemirror_mode": {
    "name": "ipython",
    "version": 3
   },
   "file_extension": ".py",
   "mimetype": "text/x-python",
   "name": "python",
   "nbconvert_exporter": "python",
   "pygments_lexer": "ipython3",
   "version": "3.6.5"
  }
 },
 "nbformat": 4,
 "nbformat_minor": 2
}
